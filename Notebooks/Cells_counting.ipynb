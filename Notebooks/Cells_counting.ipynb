{
 "cells": [
  {
   "cell_type": "markdown",
   "id": "d8dadde6",
   "metadata": {},
   "source": [
    "# Counting the total number of cells used in the article\n",
    "\n",
    "## Load all datasets"
   ]
  },
  {
   "cell_type": "code",
   "execution_count": 1,
   "id": "e19e8a03",
   "metadata": {},
   "outputs": [
    {
     "name": "stdout",
     "output_type": "stream",
     "text": [
      "Dataset 221222_cipro30ngmL (group 0): loaded objects ['Bacteria_large', 'RecB_spots', 'RecB_raw']\n",
      "Dataset 230118_DT23 (group 1): loaded objects ['Bacteria_large', 'RecB_spots', 'RecA', 'RecB_raw']\n",
      "Dataset 230126_DT23 (group 2): loaded objects ['Bacteria_large', 'RecB_spots', 'RecB_raw']\n",
      "Dataset 230201_DT22 (group 3): loaded objects ['Bacteria_large', 'RecB_spots', 'RecB_raw']\n",
      "Dataset 230201_DT23 (group 4): loaded objects ['Bacteria_large', 'RecB_spots', 'RecB_raw']\n",
      "Dataset 230504_2sec (group 5): loaded objects ['Bacteria_large', 'RecB_spots', 'RecB_raw']\n",
      "Dataset 230718_2sec (group 6): loaded objects ['Bacteria_large', 'RecB_spots', 'RecB_raw']\n",
      "Dataset 230719_1 (group 7): loaded objects ['Bacteria_large', 'RecB_spots', 'RecB_raw']\n",
      "Dataset 230719_2 (group 8): loaded objects ['Bacteria_large', 'RecB_spots', 'RecB_raw']\n",
      "Dataset 230720_1 (group 9): loaded objects ['Bacteria_large', 'RecB_spots', 'RecA', 'RecB_raw']\n",
      "Dataset 230720_2 (group 10): loaded objects ['Bacteria_large', 'RecB_spots', 'RecA', 'RecB_raw']\n",
      "Dataset 230725_1 (group 11): loaded objects ['Bacteria_large', 'RecB_spots', 'RecA', 'RecB_raw']\n",
      "Dataset 230725_2 (group 12): loaded objects ['Bacteria_large', 'RecB_spots', 'RecA', 'RecB_raw']\n",
      "Dataset 230726_cipro30 (group 13): loaded objects ['Bacteria_large', 'DnaN_spots', 'DnaN_raw', 'RecB_spots', 'RecB_raw']\n",
      "Dataset 230802_DT21 (group 14): loaded objects ['Bacteria_large', 'RecB_spots', 'RecB_raw']\n",
      "Dataset 230802_DT22 (group 15): loaded objects ['Bacteria_large', 'RecB_spots', 'RecB_raw']\n",
      "Dataset 230808_DT22 (group 16): loaded objects ['Bacteria_large', 'RecB_spots', 'RecB_raw']\n",
      "Dataset 230810_1 (group 17): loaded objects ['Bacteria_large', 'RecB_spots', 'RecA', 'RecB_raw']\n",
      "Dataset 230816_1 (group 18): loaded objects ['Bacteria_large', 'RecB_spots', 'RecA', 'RecB_raw']\n",
      "Dataset 230817_1 (group 19): loaded objects ['Bacteria_large', 'RecB_spots', 'RecA', 'RecB_raw']\n",
      "Dataset 230824_1 (group 20): loaded objects ['Bacteria_large', 'DnaN_spots', 'DnaN_raw', 'RecB_spots', 'RecB_raw']\n",
      "Dataset 230829_1 (group 21): loaded objects ['Bacteria_large', 'DnaN_spots', 'DnaN_raw', 'RecB_spots', 'RecB_raw']\n",
      "Dataset 230906_2 (group 22): loaded objects ['Bacteria_large', 'RecB_spots', 'RecA', 'RecB_raw']\n",
      "Dataset 230907_1 (group 23): loaded objects ['Bacteria_large', 'RecB_spots', 'RecA', 'RecB_raw']\n",
      "Dataset 230907_2 (group 24): loaded objects ['Bacteria_large', 'RecB_spots', 'RecA', 'RecB_raw']\n",
      "Dataset 230912_1 (group 25): loaded objects ['Bacteria_large', 'RecB_spots', 'RecA', 'RecB_raw']\n",
      "Dataset 230912_2 (group 26): loaded objects ['Bacteria_large', 'RecB_spots', 'RecA', 'RecB_raw']\n",
      "Dataset 230913_1 (group 27): loaded objects ['Bacteria_large', 'Spot_detection', 'RecA', 'RecB_raw']\n",
      "Dataset 230913_2 (group 28): loaded objects ['Bacteria_large', 'RecB_spots', 'RecB_raw']\n",
      "Dataset 230914_1 (group 29): loaded objects ['Bacteria_large', 'RecB_spots', 'RecB_raw']\n",
      "Dataset 230914_2 (group 30): loaded objects ['Bacteria_large', 'RecB_spots', 'RecB_raw']\n",
      "Dataset 230919_1 (group 31): loaded objects ['Bacteria_large', 'RecB_spots', 'RecB_raw']\n",
      "Dataset 230920_2 (group 32): loaded objects ['Bacteria_large', 'RecB_spots', 'RecB_raw']\n",
      "Dataset 240227_1 (group 33): loaded objects ['Bacteria_large', 'RecB_spots', 'RecB_raw']\n",
      "Dataset 240227_2 (group 34): loaded objects ['Bacteria_large', 'RecB_spots', 'RecB_raw']\n",
      "Dataset 240227_3 (group 35): loaded objects ['Bacteria_large', 'RecB_spots', 'RecB_raw']\n",
      "Dataset 240227_4 (group 36): loaded objects ['Bacteria_large', 'Spot_detection', 'RecB_raw']\n",
      "Dataset 240301_1 (group 37): loaded objects ['Bacteria_large', 'RecB_spots', 'RecB_raw']\n",
      "Dataset 240301_2 (group 38): loaded objects ['Bacteria_large', 'RecB_spots', 'RecB_raw']\n",
      "Dataset 240424_1 (group 39): loaded objects ['Bacteria_large', 'RecB_spots', 'RecB_raw', 'Nucleoid']\n",
      "Dataset 240424_2 (group 40): loaded objects ['Bacteria_large', 'RecB_spots', 'RecB_raw', 'Nucleoid']\n",
      "Dataset 240424_3 (group 41): loaded objects ['Bacteria_large', 'RecB_spots', 'RecB_raw', 'Nucleoid']\n",
      "Dataset 240424_4 (group 42): loaded objects ['Bacteria_large', 'RecB_spots', 'RecB_raw', 'Nucleoid']\n",
      "Dataset 240606_1 (group 43): loaded objects ['Bacteria_large', 'RecB_spots', 'RecB_raw', 'Nucleoid']\n",
      "Dataset 240606_2 (group 44): loaded objects ['Bacteria_large', 'RecB_spots', 'RecB_raw', 'Nucleoid']\n",
      "Dataset 240606_3 (group 45): loaded objects ['Bacteria_large', 'RecB_spots', 'RecB_raw', 'Nucleoid']\n",
      "Dataset 240612_1 (group 46): loaded objects ['Bacteria_large', 'RecB_spots', 'RecB_raw', 'Nucleoid']\n",
      "Dataset 240612_2 (group 47): loaded objects ['Bacteria_large', 'RecB_spots', 'RecB_raw', 'Nucleoid']\n",
      "Dataset 240612_3 (group 48): loaded objects ['Bacteria_large', 'RecB_spots', 'RecB_raw', 'Nucleoid']\n",
      "Dataset 240612_4 (group 49): loaded objects ['Bacteria_large', 'RecB_spots', 'RecB_raw', 'Nucleoid']\n",
      "Dataset 240620_1 (group 50): loaded objects ['Bacteria_large', 'RecB_spots', 'RecB_raw', 'Nucleoid']\n",
      "Dataset 240620_2 (group 51): loaded objects ['Bacteria_large', 'RecB_spots', 'RecB_raw', 'Nucleoid', 'SM_traces']\n",
      "Dataset 240620_3 (group 52): loaded objects ['Bacteria_large', 'RecB_spots', 'RecB_raw', 'Nucleoid']\n",
      "Dataset 240717_1 (group 53): loaded objects ['Bacteria_large', 'RecB_spots', 'RecB_raw', 'Nucleoid']\n",
      "Dataset 240717_2 (group 54): loaded objects ['Bacteria_large', 'RecB_spots', 'RecB_raw', 'Nucleoid']\n",
      "Dataset 240717_3 (group 55): loaded objects ['Bacteria_large', 'RecB_spots', 'RecB_raw', 'Nucleoid']\n",
      "Dataset 240717_4 (group 56): loaded objects ['Bacteria_large', 'RecB_spots', 'RecB_raw', 'Nucleoid']\n",
      "Dataset 240904_1 (group 57): loaded objects ['Bacteria_large', 'RecB_spots', 'RecB_raw', 'Nucleoid']\n",
      "Dataset 240904_2 (group 58): loaded objects ['Bacteria_large', 'RecB_spots', 'RecB_raw', 'Nucleoid']\n",
      "Dataset 240904_3 (group 59): loaded objects ['Bacteria_large', 'RecB_spots', 'RecB_raw', 'Nucleoid']\n",
      "Dataset 240904_4 (group 60): loaded objects ['Bacteria_large', 'RecB_spots', 'RecB_raw', 'Nucleoid']\n"
     ]
    }
   ],
   "source": [
    "from pyberries.data import DatasetPool\n",
    "import pandas as pd\n",
    "\n",
    "data = (DatasetPool(path='/media/daniel/HDD Daniel/DanielThedie/BACMMAN/Timelapse',\n",
    "                    dsList=[\n",
    "    '221222_cipro30ngmL',\n",
    "    '230118_DT23',\n",
    "    '230126_DT23',\n",
    "    '230201_DT22',\n",
    "    '230201_DT23',\n",
    "    '230504_2sec',\n",
    "    '230718_2sec',\n",
    "    '230719_1',\n",
    "    '230719_2',\n",
    "    '230720_1',\n",
    "    '230720_2',\n",
    "    '230725_1',\n",
    "    '230725_2',\n",
    "    '230726_cipro30',\n",
    "    '230802_DT21',\n",
    "    '230802_DT22',\n",
    "    '230808_DT22',\n",
    "    '230810_1',\n",
    "    '230816_1',\n",
    "    '230817_1',\n",
    "    '230824_1',\n",
    "    '230829_1',\n",
    "    '230906_2',\n",
    "    '230907_1',\n",
    "    '230907_2',\n",
    "    '230912_1',\n",
    "    '230912_2',\n",
    "    '230913_1',\n",
    "    '230913_2',\n",
    "    '230914_1',\n",
    "    '230914_2',\n",
    "    '230919_1',\n",
    "    '230920_2',\n",
    "    '240227_1',\n",
    "    '240227_2',\n",
    "    '240227_3',\n",
    "    '240227_4',\n",
    "    '240301_1',\n",
    "    '240301_2',\n",
    "    '240424_1',\n",
    "    '240424_2',\n",
    "    '240424_3',\n",
    "    '240424_4',\n",
    "    '240606_1',\n",
    "    '240606_2',\n",
    "    '240606_3',\n",
    "    '240612_1',\n",
    "    '240612_2',\n",
    "    '240612_3',\n",
    "    '240612_4',\n",
    "    '240620_1',\n",
    "    '240620_2',\n",
    "    '240620_3',\n",
    "    '240717_1',\n",
    "    '240717_2',\n",
    "    '240717_3',\n",
    "    '240717_4',\n",
    "    '240904_1',\n",
    "    '240904_2',\n",
    "    '240904_3',\n",
    "    '240904_4'\n",
    "],\n",
    "                    filters={'all':'Frame < 50'},\n",
    "                    )\n",
    ")"
   ]
  },
  {
   "cell_type": "markdown",
   "id": "7cfe64c4",
   "metadata": {},
   "source": [
    "## Print the total number of cells across all datasets"
   ]
  },
  {
   "cell_type": "code",
   "execution_count": 4,
   "id": "48e757e2",
   "metadata": {},
   "outputs": [
    {
     "data": {
      "text/plain": [
       "Indices    98828\n",
       "dtype: int64"
      ]
     },
     "metadata": {},
     "output_type": "display_data"
    }
   ],
   "source": [
    "display(data\n",
    "        .Bacteria_large\n",
    "        .query('Frame == 0')\n",
    "        .agg({'Indices':'count'})\n",
    "        )"
   ]
  },
  {
   "cell_type": "markdown",
   "id": "2f38ba5b",
   "metadata": {},
   "source": [
    "## Print the dataset with the smallest number of cells"
   ]
  },
  {
   "cell_type": "code",
   "execution_count": 3,
   "id": "81c2221e",
   "metadata": {},
   "outputs": [
    {
     "name": "stdout",
     "output_type": "stream",
     "text": [
      "380\n"
     ]
    }
   ],
   "source": [
    "counts = (data\n",
    "        .Bacteria_large\n",
    "        .query('Frame == 0')\n",
    "        .groupby('Dataset')\n",
    "        .agg({'Indices':'count'})\n",
    "        .reset_index()\n",
    "        )\n",
    "\n",
    "print(min(counts['Indices']))"
   ]
  }
 ],
 "metadata": {
  "kernelspec": {
   "display_name": "pyberries_dev",
   "language": "python",
   "name": "python3"
  },
  "language_info": {
   "codemirror_mode": {
    "name": "ipython",
    "version": 3
   },
   "file_extension": ".py",
   "mimetype": "text/x-python",
   "name": "python",
   "nbconvert_exporter": "python",
   "pygments_lexer": "ipython3",
   "version": "3.11.5"
  }
 },
 "nbformat": 4,
 "nbformat_minor": 5
}
